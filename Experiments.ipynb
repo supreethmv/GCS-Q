{
 "cells": [
  {
   "cell_type": "code",
   "execution_count": 1,
   "metadata": {
    "id": "1GvlOeXyyoYF"
   },
   "outputs": [],
   "source": [
    "# !pip install qiskit-aqua\n",
    "# !pip install qiskit\n",
    "# !pip install qiskit_optimization"
   ]
  },
  {
   "cell_type": "code",
   "execution_count": 2,
   "metadata": {
    "id": "SE2Nvnkbb8bK"
   },
   "outputs": [],
   "source": [
    "#from google.colab import drive\n",
    "#drive.mount('/content/drive')"
   ]
  },
  {
   "cell_type": "code",
   "execution_count": 3,
   "metadata": {
    "id": "0a6OrL1NyoVs"
   },
   "outputs": [],
   "source": [
    "import numpy as np\n",
    "import pandas as pd\n",
    "import time\n",
    "import math\n",
    "import itertools\n",
    "import os"
   ]
  },
  {
   "cell_type": "code",
   "execution_count": 4,
   "metadata": {
    "id": "fJ8f29VKzEmX"
   },
   "outputs": [],
   "source": [
    "#from drive.MyDrive.Saarland.QAI import utils\n",
    "#from drive.MyDrive.Saarland.QAI import min_cut_solvers\n",
    "\n",
    "# import dimod\n",
    "# from dwave.system.samplers import DWaveSampler\n",
    "# from dwave.system.composites import EmbeddingComposite"
   ]
  },
  {
   "cell_type": "code",
   "execution_count": 5,
   "metadata": {
    "id": "1z9CXe5Ow_jy"
   },
   "outputs": [],
   "source": [
    "import utils\n",
    "import min_cut_solvers\n",
    "# import Utils_Solvers"
   ]
  },
  {
   "cell_type": "code",
   "execution_count": 6,
   "metadata": {
    "id": "vFpzq0whkMLH"
   },
   "outputs": [],
   "source": [
    "def evaluateSplits(coalition, coalition_values, **kwargs):\n",
    "    #print(\"coalition\",coalition,end='=')\n",
    "    agents = coalition.split(',')\n",
    "    n_agents = len(agents)\n",
    "    best_cost_brute = f[coalition]\n",
    "    xbest_brute = [coalition]\n",
    "    for b in range(1, 2**(n_agents-1)):\n",
    "        x = [int(term) for term in reversed(list(bin(b)[2:].zfill(n_agents)))]\n",
    "        first_half = ','.join([agent for i,agent in enumerate(agents) if int(x[i])])\n",
    "        second_half = ','.join([agent for i,agent in enumerate(agents) if not int(x[i])])\n",
    "        if best_cost_brute <= (f[first_half]+f[second_half]):\n",
    "            best_cost_brute = f[first_half]+f[second_half]\n",
    "            xbest_brute = [first_half, second_half]\n",
    "    #print(xbest_brute, best_cost_brute)\n",
    "    return xbest_brute, best_cost_brute"
   ]
  },
  {
   "cell_type": "code",
   "execution_count": 7,
   "metadata": {
    "id": "pSlVHC6eiGoH"
   },
   "outputs": [],
   "source": [
    "def IDP(coalition_values, evaluateSplits = evaluateSplits, min_cut_solver = min_cut_solvers.min_cut_brute_force, **kwargs):\n",
    "  n_agents = math.ceil(math.log(len(coalition_values),2))\n",
    "  global t\n",
    "  t = {}\n",
    "  global f\n",
    "  f = {}\n",
    "  for coalition,coalition_value in coalition_values.items():\n",
    "    t[coalition] = [coalition]\n",
    "    f[coalition] = coalition_value\n",
    "  for coalition_size in range(2, n_agents):\n",
    "    #if((math.ceil((2*n_agents)/3)<coalition_size) and (coalition_size < n_agents)):                  # Ignoring this condition will make this function work as DP instead of IDP\n",
    "    #  continue\n",
    "    coalitions_of_cur_size = list(itertools.combinations(map(str,range(1,n_agents+1)), coalition_size))\n",
    "    for curCoalition in coalitions_of_cur_size:\n",
    "      curCoalition = ','.join(curCoalition)\n",
    "      split_t, split_f = evaluateSplits(curCoalition, coalition_values, min_cut_solver = min_cut_solver, **kwargs)\n",
    "      if split_f > f[curCoalition]:\n",
    "        t[curCoalition] = split_t\n",
    "        f[curCoalition] = split_f\n",
    "  grand_coalition = ','.join(map(str,range(1,n_agents+1)))\n",
    "  split_t, split_f = evaluateSplits(grand_coalition, coalition_values, min_cut_solver = min_cut_solver, **kwargs)\n",
    "  if split_f > f[grand_coalition]:\n",
    "    t[grand_coalition] = split_t\n",
    "    f[grand_coalition] = split_f\n",
    "  temp = t[grand_coalition].copy()\n",
    "  optimal_cs = []\n",
    "  while(len(temp)):\n",
    "    C = temp.pop()\n",
    "    if len(t[C])==1:\n",
    "      optimal_cs+=t[C]\n",
    "    if(len(t[C])!=1):\n",
    "      temp += t[C]\n",
    "  optimal_cs_value = sum([f[coalition] for coalition in optimal_cs])\n",
    "  return optimal_cs, optimal_cs_value"
   ]
  },
  {
   "cell_type": "markdown",
   "metadata": {
    "id": "6up0ehVS5T9P"
   },
   "source": [
    "#### IDP Top-down approach (for ISGs only)"
   ]
  },
  {
   "cell_type": "code",
   "execution_count": 8,
   "metadata": {
    "id": "qdDQ0PND3Vm1"
   },
   "outputs": [],
   "source": [
    "def get_coalition_value(coalition, induced_subgraph_game):\n",
    "  agents = coalition.split(',')\n",
    "  return sum([induced_subgraph_game[','.join(map(str,sorted(map(int,key))))] for key in itertools.combinations(agents, 2)])"
   ]
  },
  {
   "cell_type": "code",
   "execution_count": 9,
   "metadata": {
    "id": "HeognaP33cFb"
   },
   "outputs": [],
   "source": [
    "def evaluateSplits_min_cut(coalition, induced_subgraph_game, min_cut_solver = min_cut_solvers.min_cut_brute_force, **kwargs):\n",
    "  #print(\"coalition\",coalition,end='=')\n",
    "  agents = coalition.split(',')\n",
    "  n = len(agents)\n",
    "  if n==1:\n",
    "    return [coalition], 0\n",
    "  if n==2:\n",
    "    c_value = induced_subgraph_game[coalition]\n",
    "    if c_value<=0:\n",
    "      #print([agents[0],agents[1]], 0)\n",
    "      return [agents[0],agents[1]], 0\n",
    "    else:\n",
    "      #print([coalition], c_value)\n",
    "      return [coalition], c_value\n",
    "  min_cut_mapping = {}\n",
    "  for idx,agent in enumerate(agents):\n",
    "    min_cut_mapping[agent] = str(idx+1)\n",
    "  subproblem_as_induced_subgraph_game = {','.join([min_cut_mapping[vertex] for vertex in map(str,sorted(map(int,key)))]):induced_subgraph_game[','.join(map(str,sorted(map(int,key))))] for key in itertools.combinations(agents, 2)}\n",
    "  xbest_brute, best_cost_brute = min_cut_solver(n,subproblem_as_induced_subgraph_game, **kwargs)\n",
    "  if 0 in xbest_brute and 1 in xbest_brute:\n",
    "    first_half = ','.join([agent for idx,agent in enumerate(agents) if xbest_brute[idx]])\n",
    "    second_half = ','.join([agent for idx,agent in enumerate(agents) if not xbest_brute[idx]])\n",
    "    bruteforce_solution_decoded = [first_half, second_half]\n",
    "    best_cost_brute = get_coalition_value(first_half, induced_subgraph_game) + get_coalition_value(second_half, induced_subgraph_game)\n",
    "  else:\n",
    "    bruteforce_solution_decoded = [coalition]\n",
    "    best_cost_brute = get_coalition_value(coalition, induced_subgraph_game)\n",
    "  #print(bruteforce_solution_decoded, best_cost_brute)\n",
    "  return bruteforce_solution_decoded, best_cost_brute"
   ]
  },
  {
   "cell_type": "code",
   "execution_count": 10,
   "metadata": {
    "id": "dk0N6-mPGH85"
   },
   "outputs": [],
   "source": [
    "def IDP_min_cut_top_down(induced_subgraph_game, min_cut_solver = min_cut_solvers.min_cut_brute_force, **kwargs):\n",
    "  grand_coalition = ','.join(map(str,sorted(map(int,(set([key.split(',')[i] for i in range(2) for key in induced_subgraph_game]))))))\n",
    "  temp = [grand_coalition]\n",
    "  optimal_cs = []\n",
    "  while(len(temp)):\n",
    "    c = temp.pop()\n",
    "    c_split_t,c_split_f = evaluateSplits_min_cut(c, induced_subgraph_game, min_cut_solver = min_cut_solver, **kwargs)\n",
    "    if len(c_split_t)==1:\n",
    "      optimal_cs+=c_split_t\n",
    "    if len(c_split_t)>1:\n",
    "      temp += c_split_t\n",
    "  return optimal_cs, sum([get_coalition_value(c, induced_subgraph_game) for c in optimal_cs])"
   ]
  },
  {
   "cell_type": "markdown",
   "metadata": {
    "id": "K2gaPLCgxFV8"
   },
   "source": [
    "### Data generation"
   ]
  },
  {
   "cell_type": "code",
   "execution_count": 11,
   "metadata": {
    "id": "nhZj5TW-vChE"
   },
   "outputs": [],
   "source": [
    "def normal(size=1, mu=0, sigma=5, low=-10, high=10):\n",
    "  values = np.random.normal(mu, sigma, size)\n",
    "  #values = np.interp(values, (values.min(), values.max()), (low, high))\n",
    "  return values\n",
    "\n",
    "def uniform(size=1, low=-5, high=5):\n",
    "  values = np.random.normal(low, high, size)\n",
    "  #values = np.interp(values, (values.min(), values.max()), (low, high))\n",
    "  return values\n",
    "\n",
    "def laplace(size=1, loc=0, scale=5, low=-10, high=10):\n",
    "  values = np.random.laplace(loc, scale, size)\n",
    "  #values = np.interp(values, (values.min(), values.max()), (low, high))\n",
    "  return values\n",
    "\n",
    "\n",
    "def generate_induced_subgraph_game(distribution, n_agents, **kwargs):\n",
    "  induced_subgraph_game = {}\n",
    "  keys = list(itertools.combinations(range(1,n_agents+1), 2))\n",
    "  totalinteractions = len(keys)\n",
    "  values = distribution(totalinteractions, **kwargs)\n",
    "  for i,key in enumerate(keys):\n",
    "    induced_subgraph_game[','.join(map(str,key))] = round(values[i],2)\n",
    "  return induced_subgraph_game"
   ]
  },
  {
   "cell_type": "markdown",
   "metadata": {
    "id": "unCriLYgQ7ds"
   },
   "source": [
    "## Experiments"
   ]
  },
  {
   "cell_type": "code",
   "execution_count": 12,
   "metadata": {
    "id": "KhUy2KAjeX2G"
   },
   "outputs": [],
   "source": [
    "#@title Choose the solvers for experiments\n",
    "IDP_brute_force = False#@param {type:\"boolean\"}\n",
    "IDP_topdown_min_cut = True#@param {type:\"boolean\"}\n",
    "IDP_topdown_qubo = False#@param {type:\"boolean\"}\n",
    "IDP_min_cut_dwave_annealer = True#@param {type:\"boolean\"}\n",
    "\n",
    "\n",
    "solver_flags = ''.join(map(str,map(int,[IDP_brute_force,IDP_topdown_min_cut,IDP_min_cut_dwave_annealer])))\n",
    "\n",
    "#@markdown IDP implicitly means, it's using bottom-up approach.\n",
    "#@markdown IDP_min_cut_qiskit_qaoa takes the longest time for execution."
   ]
  },
  {
   "cell_type": "code",
   "execution_count": 13,
   "metadata": {
    "id": "4XLUuMSI97qc"
   },
   "outputs": [],
   "source": [
    "#@markdown Keep it 'False' if using only top-down approach for large problem sizes.\n",
    "convert_ISG_to_coalition_game = False#@param {type:\"boolean\"}\n",
    "\n",
    "#@markdown Takes a long time for large problem instances as the number of coalition values will be of the order $O(2^n)$"
   ]
  },
  {
   "cell_type": "code",
   "execution_count": 14,
   "metadata": {
    "id": "uKbdumuQA5Cb"
   },
   "outputs": [],
   "source": [
    "#@markdown To generate a file compatible for runnning BOSS for the same problem instances used for the below experiments.\n",
    "#@markdown Can be 'True' only if _convert_ISG_to_coalition_game_ is also 'True'\n",
    "generate_file_for_BOSS = False#@param {type:\"boolean\"}"
   ]
  },
  {
   "cell_type": "code",
   "execution_count": 15,
   "metadata": {
    "id": "eZJ_f1JapEtx"
   },
   "outputs": [],
   "source": [
    "#report_save_location = '/content/drive/MyDrive/Saarland/QAI/DP-Q'"
   ]
  },
  {
   "cell_type": "code",
   "execution_count": null,
   "metadata": {
    "colab": {
     "base_uri": "https://localhost:8080/"
    },
    "id": "Iaq80xvFP4r7",
    "outputId": "1077bfbe-2c8c-4273-958a-10ee0be423da"
   },
   "outputs": [
    {
     "name": "stdout",
     "output_type": "stream",
     "text": [
      "\n",
      "Executing normal distribution for n. agents:  n. agents: 2\n",
      "--- BF min-cut top-down: 00:00:00 \n",
      "\n",
      "--- total time QA: 00:00:00 \n",
      "\n",
      "n. agents: 3\n",
      "--- BF min-cut top-down: 00:00:00 \n",
      "\n",
      "--- total time QA: 00:00:05 \n",
      "\n",
      "n. agents: 4\n",
      "--- BF min-cut top-down: 00:00:00 \n",
      "\n",
      "--- total time QA: 00:00:10 \n",
      "\n",
      "n. agents: 5\n",
      "--- BF min-cut top-down: 00:00:00 \n",
      "\n",
      "--- total time QA: 00:00:09 \n",
      "\n",
      "n. agents: 6\n",
      "--- BF min-cut top-down: 00:00:00 \n",
      "\n",
      "--- total time QA: 00:00:14 \n",
      "\n",
      "n. agents: 7\n",
      "--- BF min-cut top-down: 00:00:00 \n",
      "\n",
      "--- total time QA: 00:00:14 \n",
      "\n",
      "n. agents: 8\n",
      "--- BF min-cut top-down: 00:00:00 \n",
      "\n",
      "--- total time QA: 00:00:20 \n",
      "\n",
      "n. agents: 9\n",
      "--- BF min-cut top-down: 00:00:00 \n",
      "\n",
      "--- total time QA: 00:00:20 \n",
      "\n",
      "n. agents: 10\n",
      "--- BF min-cut top-down: 00:00:00 \n",
      "\n",
      "--- total time QA: 00:00:24 \n",
      "\n",
      "n. agents: 11\n",
      "--- BF min-cut top-down: 00:00:00 \n",
      "\n",
      "--- total time QA: 00:00:34 \n",
      "\n",
      "n. agents: 12\n",
      "--- BF min-cut top-down: 00:00:00 \n",
      "\n",
      "--- total time QA: 00:00:26 \n",
      "\n",
      "n. agents: 13\n",
      "--- BF min-cut top-down: 00:00:00 \n",
      "\n",
      "--- total time QA: 00:00:31 \n",
      "\n",
      "n. agents: 14\n",
      "--- BF min-cut top-down: 00:00:00 \n",
      "\n",
      "--- total time QA: 00:00:34 \n",
      "\n",
      "n. agents: 15\n",
      "--- BF min-cut top-down: 00:00:01 \n",
      "\n",
      "--- total time QA: 00:00:31 \n",
      "\n",
      "n. agents: 16\n",
      "--- BF min-cut top-down: 00:00:04 \n",
      "\n",
      "--- total time QA: 00:00:41 \n",
      "\n",
      "n. agents: 17\n",
      "--- BF min-cut top-down: 00:00:09 \n",
      "\n",
      "--- total time QA: 00:00:35 \n",
      "\n",
      "n. agents: 18\n",
      "--- BF min-cut top-down: 00:00:20 \n",
      "\n",
      "--- total time QA: 00:00:50 \n",
      "\n",
      "n. agents: 19\n",
      "--- BF min-cut top-down: 00:00:46 \n",
      "\n",
      "--- total time QA: 00:00:49 \n",
      "\n",
      "n. agents: 20\n",
      "--- BF min-cut top-down: 00:01:41 \n",
      "\n",
      "--- total time QA: 00:00:51 \n",
      "\n",
      "n. agents: 21\n",
      "--- BF min-cut top-down: 00:03:41 \n",
      "\n",
      "--- total time QA: 00:00:51 \n",
      "\n",
      "n. agents: 22\n"
     ]
    }
   ],
   "source": [
    "table_contents = []\n",
    "\n",
    "\n",
    "distributions = [  \n",
    "#     laplace, \n",
    "#     uniform, \n",
    "    normal\n",
    "]\n",
    "\n",
    "n_agents = np.arange(2, 26).tolist()\n",
    "\n",
    "seed = 123\n",
    "QAOA_p_increment_flag = False # Useful for training QAOA. If true, checks by running QAOA for p>1 until the right solution is obtained.\n",
    "\n",
    "report_filename = 'IDP_report_' + solver_flags + '_' +  str(seed) + '.txt'\n",
    "\n",
    "problem_instances = {}\n",
    "\n",
    "if generate_file_for_BOSS:\n",
    "    file_obj = open(f\"data_for_BOSS_{seed}.txt\",'w')\n",
    "\n",
    "for distribution in distributions:\n",
    "    print(f'\\nExecuting {distribution.__name__} distribution for n. agents: ',end=' ')\n",
    "    problem_instances[distribution] = {}\n",
    "    \n",
    "    for n in n_agents:\n",
    "        print(f'n. agents: {n}',end='\\n')\n",
    "        np.random.seed(seed=seed)\n",
    "        induced_subgraph_game = utils.generate_induced_subgraph_game(distribution,n)\n",
    "\n",
    "        # If only IDP top-down approach is being executed, need not generate the classical coalition game.\n",
    "        if convert_ISG_to_coalition_game:\n",
    "            coalition_game = utils.induced_subgraph_game_to_coalition_game(n, induced_subgraph_game)\n",
    "\n",
    "        # For generating a file compatible for runnning BOSS for the same problem instanes used for the experiment here.\n",
    "        if generate_file_for_BOSS:\n",
    "            file_obj.write(distribution.__name__ + ' ' + str(n))\n",
    "            for index, coalition in enumerate(coalition_game):\n",
    "                binkey = bin(index + 1)[2:].zfill(n)\n",
    "                temp = []\n",
    "                for agent_index, agent in enumerate(binkey[::-1]):\n",
    "                    if int(agent):\n",
    "                        temp.append(agent_index + 1)\n",
    "                file_obj.write(' ' + str(coalition_game[str(sorted(temp))[1:-1].replace(' ', '')]))\n",
    "            file_obj.write('\\n')\n",
    "\n",
    "        problem_instances[distribution][n] = induced_subgraph_game\n",
    "\n",
    "        start_time = time.time()\n",
    "        if IDP_brute_force:\n",
    "            bruteforce_solution, bruteforce_value = IDP(coalition_game)\n",
    "        else:\n",
    "            bruteforce_solution, bruteforce_value = None, None\n",
    "        bruteforce_tte = (time.time() - start_time)\n",
    "        #print('--- total time bruteforce:', time.strftime('%H:%M:%S', time.gmtime(bruteforce_tte)), '\\n')\n",
    "\n",
    "        start_time = time.time()\n",
    "        if IDP_topdown_min_cut:\n",
    "            topdown_min_cut_solution, topdown_min_cut_value = IDP_min_cut_top_down(induced_subgraph_game)\n",
    "            if bruteforce_value:\n",
    "                topdown_min_cut_quality = 1 #1-(abs(topdown_min_cut_value-bruteforce_value)/bruteforce_value)\n",
    "            else:\n",
    "                topdown_min_cut_quality = 1 # -(abs(topdown_min_cut_value-bruteforce_value))\n",
    "        else:\n",
    "            topdown_min_cut_solution, topdown_min_cut_value = None, None\n",
    "            topdown_min_cut_quality = None\n",
    "        topdown_min_cut_tte = (time.time() - start_time)\n",
    "        print('--- BF min-cut top-down:', time.strftime('%H:%M:%S', time.gmtime(topdown_min_cut_tte)), '\\n')\n",
    "\n",
    "        start_time = time.time()\n",
    "        if IDP_topdown_qubo:\n",
    "            topdown_qubo_solution, topdown_qubo_value = IDP_min_cut_top_down(induced_subgraph_game, min_cut_solver = min_cut_solvers.min_cut_qiskit_classical_eigensolver)\n",
    "            if bruteforce_value:\n",
    "                topdown_qubo_quality = 1-(abs(topdown_qubo_value-bruteforce_value)/bruteforce_value)\n",
    "            else:\n",
    "                topdown_qubo_quality = 1-(abs(topdown_qubo_value-bruteforce_value))\n",
    "        else:\n",
    "            topdown_qubo_solution, topdown_qubo_value = None, None\n",
    "        topdown_qubo_tte = (time.time() - start_time)\n",
    "        #print('--- total min-cut top-down:', time.strftime('%H:%M:%S', time.gmtime(topdown_qubo_tte)), '\\n')\n",
    "        \n",
    "        \n",
    "        start_time = time.time()\n",
    "        #dwave_annealer_solution, dwave_annealer_value = np.array([0]*n),None #Call DWAVE ANNEALER SOLVER\n",
    "        if IDP_min_cut_dwave_annealer:\n",
    "            dwave_annealer_solution, dwave_annealer_value = IDP_min_cut_top_down(induced_subgraph_game, min_cut_solver = min_cut_solvers.min_cut_dwave_annealer)\n",
    "            if IDP_topdown_min_cut:\n",
    "                dwave_annealer_quality = 1-(abs(dwave_annealer_value-IDP_topdown_min_cut)/IDP_topdown_min_cut)\n",
    "            else:\n",
    "                dwave_annealer_quality = 1-(abs(dwave_annealer_value-IDP_topdown_min_cut))\n",
    "        else:\n",
    "            dwave_annealer_solution, dwave_annealer_value = None, None\n",
    "            dwave_annealer_quality = None#((bruteforce_solution==dwave_annealer_solution).all() or (bruteforce_solution==(1-dwave_annealer_solution)).all())\n",
    "        dwave_annealer_tte = (time.time() - start_time)\n",
    "        print('--- total time QA:', time.strftime('%H:%M:%S', time.gmtime(dwave_annealer_tte)), '\\n')\n",
    "\n",
    "        row = []\n",
    "        row.append(distribution.__name__)\n",
    "        row.append(n)\n",
    "        if IDP_brute_force:\n",
    "            row.append(str(bruteforce_solution))\n",
    "            row.append(bruteforce_value)\n",
    "            row.append(bruteforce_tte)\n",
    "\n",
    "        if IDP_topdown_min_cut:\n",
    "            row.append(str(topdown_min_cut_solution))\n",
    "            row.append(topdown_min_cut_value)\n",
    "            row.append(topdown_min_cut_tte)\n",
    "            row.append(topdown_min_cut_quality)\n",
    "\n",
    "        if IDP_topdown_qubo:\n",
    "            row.append(str(topdown_qubo_solution))\n",
    "            row.append(topdown_qubo_value)\n",
    "            row.append(topdown_qubo_tte)\n",
    "            row.append(topdown_qubo_quality)\n",
    "\n",
    "        if IDP_min_cut_dwave_annealer:\n",
    "            row.append(str(dwave_annealer_solution))\n",
    "            row.append(dwave_annealer_value)\n",
    "            row.append(dwave_annealer_tte)\n",
    "            row.append(dwave_annealer_quality)\n",
    "        #report_file_obj = open(os.path.join(report_save_location,report_filename),'a+')\n",
    "        report_file_obj = open(os.path.join(report_filename),'a+')\n",
    "        report_file_obj.write('__'.join(map(str,row))+'\\n')\n",
    "        report_file_obj.close()\n",
    "        table_contents.append(row)\n",
    "    print('\\n')\n",
    "if generate_file_for_BOSS:\n",
    "    file_obj.close()"
   ]
  },
  {
   "cell_type": "markdown",
   "metadata": {
    "id": "uAPJ4crVbTum"
   },
   "source": [
    "## Display results from generated report file"
   ]
  },
  {
   "cell_type": "code",
   "execution_count": null,
   "metadata": {
    "colab": {
     "base_uri": "https://localhost:8080/",
     "height": 35
    },
    "id": "zk_p9tUgbTun",
    "outputId": "3b50152e-9b74-4485-947c-2d731d97a9dc"
   },
   "outputs": [],
   "source": [
    "report_filename = 'IDP_report_' + solver_flags + '_' +  str(seed) + '.txt'\n",
    "report_filename"
   ]
  },
  {
   "cell_type": "code",
   "execution_count": null,
   "metadata": {
    "id": "LNzU_r7VbTun"
   },
   "outputs": [],
   "source": [
    "IDP_brute_force = bool(int(report_filename.split('_')[-2][0]))\n",
    "IDP_topdown_min_cut = bool(int(report_filename.split('_')[-2][1]))\n",
    "IDP_min_cut_dwave_annealer = bool(int(report_filename.split('_')[-2][2]))\n",
    "\n",
    "#report_file_obj = open(os.path.join(report_save_location,report_filename),'r')\n",
    "report_file_obj = open(os.path.join(report_filename),'r')\n",
    "table_contents = [line.replace('\\n','').split('__') for line in report_file_obj.readlines()]"
   ]
  },
  {
   "cell_type": "code",
   "execution_count": null,
   "metadata": {
    "id": "N_QZUWWHpZWE"
   },
   "outputs": [],
   "source": [
    "# table_contents = table_contents[156+38:]"
   ]
  },
  {
   "cell_type": "code",
   "execution_count": null,
   "metadata": {
    "id": "nnlMsnK0Kf8Y"
   },
   "outputs": [],
   "source": [
    "def is_float(value):\n",
    "  try:\n",
    "    float(value)\n",
    "    return True\n",
    "  except:\n",
    "    return False\n",
    "\n",
    "for col_num, cell in enumerate(table_contents[0][2:]):\n",
    "  if is_float(cell):\n",
    "    for row in table_contents:\n",
    "      row[col_num+2] = np.float(row[col_num+2])"
   ]
  },
  {
   "cell_type": "code",
   "execution_count": null,
   "metadata": {
    "colab": {
     "base_uri": "https://localhost:8080/",
     "height": 1000
    },
    "id": "WnePLvC9etI_",
    "outputId": "eaaa7e53-7b52-41f2-c9a4-dc189fa9f210"
   },
   "outputs": [],
   "source": [
    "#view output table\n",
    "def highlight_false(s, column):\n",
    "    is_false = pd.Series(data=False, index=s.index)\n",
    "    is_false[column] = round(s.loc[column],2)<1.0\n",
    "    return ['color: #ff8888' if is_false.any() else '' for v in is_false]\n",
    "\n",
    "base_cols = ['Distribution', 'No. of Agents']\n",
    "sub_cols = ['', '']\n",
    "\n",
    "if IDP_brute_force:\n",
    "  base_cols = base_cols+['Brute Force']*3\n",
    "  sub_cols=sub_cols+['Result', 'Value', 'TTE']\n",
    "if IDP_topdown_min_cut:\n",
    "  base_cols = base_cols+['Top-down approach using min-cut']*4\n",
    "  sub_cols=sub_cols+['Result', 'Value', 'TTE', 'Quality']\n",
    "if IDP_topdown_qubo:\n",
    "  base_cols = base_cols+['Top-down approach using qubo']*4\n",
    "  sub_cols=sub_cols+['Result', 'Value', 'TTE', 'Quality']\n",
    "if IDP_min_cut_dwave_annealer:\n",
    "  base_cols = base_cols+['Dwave Annealer']*4\n",
    "  sub_cols=sub_cols+['Result', 'Value', 'TTE', 'Quality']\n",
    "\n",
    "\n",
    "column_arrays = [base_cols, sub_cols]\n",
    "\n",
    "\n",
    "#df = pd.DataFrame(table_contents, columns=table_headers)\n",
    "df = pd.DataFrame(table_contents, columns=pd.MultiIndex.from_arrays(column_arrays))\n",
    "\n",
    "\n",
    "s = df.style.apply(highlight_false, column=('Top-down approach using min-cut', 'Quality'), axis=1)\n",
    "\n",
    "cell_hover = {  # for row hover use <tr> instead of <td>\n",
    "    'selector': 'td:hover',\n",
    "    'props': [('background-color', 'grey')]\n",
    "}\n",
    "index_names = {\n",
    "    'selector': '.index_name',\n",
    "    'props': 'font-style: italic; color: darkgrey; font-weight:normal;'\n",
    "}\n",
    "headers = {\n",
    "    'selector': 'th:not(.index_name)',\n",
    "    'props': 'background-color: #1D1D1D; color: white;'\n",
    "}\n",
    "s.set_table_styles([cell_hover, index_names, headers])\n",
    "\n",
    "result_col_bgcolor = '186A3B'\n",
    "value_col_bgcolor = '784212'\n",
    "tte_col_bgcolor = '154360'\n",
    "correctness_col_bgcolor = '693f3f'\n",
    "\n",
    "def get_nested_column_style(col_name, nested_col_name, border_color='black', bg_color = 'grey'):\n",
    "  return {(col_name, nested_col_name):[{'selector': 'th', 'props': 'border-left: 1px solid '+border_color},\\\n",
    "                               {'selector': 'td', 'props': 'border-left: 1px solid '+ border_color+'; background-color: #'+bg_color}]}\n",
    "\n",
    "def get_column_style(col_name, nested_col_names):\n",
    "  result_dict = {}\n",
    "  for nested_col_name, bg_color in nested_col_names:\n",
    "    border_color = 'black'\n",
    "    if nested_col_name is 'Result':\n",
    "      border_color = 'white'\n",
    "    temp = get_nested_column_style(col_name, nested_col_name, border_color, bg_color)\n",
    "    result_dict[list(temp.keys())[0]]=list(temp.values())[0]\n",
    "  return result_dict\n",
    "\n",
    "d1 = {\n",
    "    ('No. of Agents', ''): [{'selector': 'th', 'props': 'border-left: 1px solid white'},\n",
    "                               {'selector': 'td', 'props': 'border-left: 1px solid white'}]}\n",
    "\n",
    "if IDP_brute_force: d1.update(get_column_style('Brute Force',[('Result',result_col_bgcolor), ('Value',value_col_bgcolor), ('TTE',tte_col_bgcolor)]))\n",
    "if IDP_topdown_min_cut: d1.update(get_column_style('Top-down approach using min-cut',[('Result',result_col_bgcolor), ('Value',value_col_bgcolor), ('TTE',tte_col_bgcolor), ('Correctness',correctness_col_bgcolor)]))\n",
    "if IDP_topdown_qubo: d1.update(get_column_style('Top-down approach using qubo',[('Result',result_col_bgcolor), ('Value',value_col_bgcolor), ('TTE',tte_col_bgcolor), ('Correctness',correctness_col_bgcolor)]))\n",
    "if IDP_min_cut_dwave_annealer: d1.update(get_column_style('Qiskit QAOA',[('Result',result_col_bgcolor), ('Value',value_col_bgcolor), ('TTE',tte_col_bgcolor), ('Correctness',correctness_col_bgcolor), ('reps (p)','1D1D1D')]))\n",
    "\n",
    "s.set_table_styles(d1, overwrite=False, axis=0)"
   ]
  },
  {
   "cell_type": "code",
   "execution_count": null,
   "metadata": {
    "id": "wmnciKkFsPiQ"
   },
   "outputs": [],
   "source": []
  }
 ],
 "metadata": {
  "colab": {
   "collapsed_sections": [],
   "provenance": []
  },
  "kernelspec": {
   "display_name": "Python 3 (ipykernel)",
   "language": "python",
   "name": "python3"
  },
  "language_info": {
   "codemirror_mode": {
    "name": "ipython",
    "version": 3
   },
   "file_extension": ".py",
   "mimetype": "text/x-python",
   "name": "python",
   "nbconvert_exporter": "python",
   "pygments_lexer": "ipython3",
   "version": "3.7.9"
  }
 },
 "nbformat": 4,
 "nbformat_minor": 1
}
