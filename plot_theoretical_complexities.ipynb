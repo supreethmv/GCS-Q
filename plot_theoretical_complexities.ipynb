{
 "cells": [
  {
   "cell_type": "code",
   "execution_count": 2,
   "metadata": {
    "id": "hNCwRjijgHM8"
   },
   "outputs": [],
   "source": [
    "import matplotlib.pyplot as plt\n",
    "import numpy as np\n",
    "import operator as op\n",
    "from functools import reduce"
   ]
  },
  {
   "cell_type": "code",
   "execution_count": 3,
   "metadata": {
    "id": "cu990X0LumT-"
   },
   "outputs": [],
   "source": [
    "def ncr(n, r):\n",
    "    r = min(r, n-r)\n",
    "    numer = reduce(op.mul, range(n, n-r, -1), 1)\n",
    "    denom = reduce(op.mul, range(1, r+1), 1)\n",
    "    return numer // denom"
   ]
  },
  {
   "cell_type": "code",
   "execution_count": 4,
   "metadata": {
    "colab": {
     "base_uri": "https://localhost:8080/"
    },
    "id": "ZZEWgosegHDb",
    "outputId": "b0acf7d8-2e74-4525-c922-d79fe64dba0d"
   },
   "outputs": [
    {
     "data": {
      "text/plain": [
       "array([ 1,  2,  3,  4,  5,  6,  7,  8,  9, 10, 11, 12, 13, 14, 15, 16, 17,\n",
       "       18, 19, 20, 21, 22, 23, 24, 25, 26, 27, 28, 29, 30, 31, 32, 33, 34,\n",
       "       35, 36, 37, 38, 39, 40], dtype=int64)"
      ]
     },
     "execution_count": 4,
     "metadata": {},
     "output_type": "execute_result"
    }
   ],
   "source": [
    "n_max = 41\n",
    "n=np.arange(1,n_max).astype(np.int64)\n",
    "n"
   ]
  },
  {
   "cell_type": "markdown",
   "metadata": {
    "id": "P45rs4HioS24"
   },
   "source": [
    "----------------------------------------------------------------------------------------------------------------------------------------------------------------\n",
    "##C-LINK: \n",
    "$$\\mathcal{O}(n^3)$$"
   ]
  },
  {
   "cell_type": "code",
   "execution_count": 5,
   "metadata": {
    "colab": {
     "base_uri": "https://localhost:8080/"
    },
    "id": "WL-s7mRAXLoF",
    "outputId": "2a6db59c-1dc7-4b48-82b0-a6007194b6f8"
   },
   "outputs": [
    {
     "data": {
      "text/plain": [
       "array([ 0.        ,  3.        ,  4.7548875 ,  6.        ,  6.96578428,\n",
       "        7.7548875 ,  8.42206477,  9.        ,  9.509775  ,  9.96578428,\n",
       "       10.37829486, 10.7548875 , 11.10131915, 11.42206477, 11.72067179,\n",
       "       12.        , 12.26238852, 12.509775  , 12.74378254, 12.96578428,\n",
       "       13.17695227, 13.37829486, 13.57068587, 13.7548875 , 13.93156857,\n",
       "       14.10131915, 14.26466251, 14.42206477, 14.57394299, 14.72067179,\n",
       "       14.86258893, 15.        , 15.13318236, 15.26238852, 15.38784905,\n",
       "       15.509775  , 15.6283601 , 15.74378254, 15.85620666, 15.96578428])"
      ]
     },
     "execution_count": 5,
     "metadata": {},
     "output_type": "execute_result"
    }
   ],
   "source": [
    "clink = 3*np.log2(n)\n",
    "clink"
   ]
  },
  {
   "cell_type": "markdown",
   "metadata": {
    "id": "3e3jHHY1omTK"
   },
   "source": [
    "##BOSS/ IDP:  \n",
    "$$\\sum_{s=1}^n \\binom{n}{s} 2^{s-1} \\rightarrow \\mathcal{O}(3^n)$$"
   ]
  },
  {
   "cell_type": "code",
   "execution_count": 6,
   "metadata": {
    "colab": {
     "base_uri": "https://localhost:8080/"
    },
    "id": "E1eD0yXKoCRT",
    "outputId": "7a147540-3a83-460b-9140-dc3fc468b053"
   },
   "outputs": [
    {
     "data": {
      "text/plain": [
       "array([ 1.5849625 ,  3.169925  ,  4.7548875 ,  6.33985   ,  7.9248125 ,\n",
       "        9.509775  , 11.09473751, 12.67970001, 14.26466251, 15.84962501,\n",
       "       17.43458751, 19.01955001, 20.60451251, 22.18947501, 23.77443751,\n",
       "       25.35940001, 26.94436251, 28.52932501, 30.11428751, 31.69925001,\n",
       "       33.28421252, 34.86917502, 36.45413752, 38.03910002, 39.62406252,\n",
       "       41.20902502, 42.79398752, 44.37895002, 45.96391252, 47.54887502,\n",
       "       49.13383752, 50.71880002, 52.30376252, 53.88872502, 55.47368753,\n",
       "       57.05865003, 58.64361253, 60.22857503, 61.81353753, 63.39850003])"
      ]
     },
     "execution_count": 6,
     "metadata": {},
     "output_type": "execute_result"
    }
   ],
   "source": [
    "boss_idp = n*np.log2(3)\n",
    "boss_idp"
   ]
  },
  {
   "cell_type": "markdown",
   "metadata": {
    "id": "x2mfjuXKovKt"
   },
   "source": [
    "##CFSS/ IP:  \n",
    "$$\\mathcal{O}(n^n)$$"
   ]
  },
  {
   "cell_type": "code",
   "execution_count": 7,
   "metadata": {
    "colab": {
     "base_uri": "https://localhost:8080/"
    },
    "id": "ios8M-LwoG6J",
    "outputId": "29166bd9-9d33-4d77-ba1e-1be2cf26cc80"
   },
   "outputs": [
    {
     "data": {
      "text/plain": [
       "array([  0.        ,   2.        ,   4.7548875 ,   8.        ,\n",
       "        11.60964047,  15.509775  ,  19.65148445,  24.        ,\n",
       "        28.52932501,  33.21928095,  38.05374781,  43.01955001,\n",
       "        48.10571634,  53.30296891,  58.60335893,  64.        ,\n",
       "        69.4868683 ,  75.05865003,  80.71062276,  86.4385619 ,\n",
       "        92.23866588,  98.10749561, 104.04192499, 110.03910002,\n",
       "       116.09640474, 122.21143267, 128.38196256, 134.60593782,\n",
       "       140.88144886, 147.20671787, 153.58008562, 160.        ,\n",
       "       166.46500594, 172.9737366 , 179.52490559, 186.11730005,\n",
       "       192.74977453, 199.42124551, 206.13068654, 212.8771238 ])"
      ]
     },
     "execution_count": 7,
     "metadata": {},
     "output_type": "execute_result"
    }
   ],
   "source": [
    "ip_cfss = n*np.log2(n)\n",
    "ip_cfss"
   ]
  },
  {
   "cell_type": "markdown",
   "metadata": {
    "id": "75JYv-Sbo7CI"
   },
   "source": [
    "##BILP-Q: \n",
    "$$\\mathcal{O}((2^n-1)+p*(3*(2^n-1)+2*(2^n)-1))$$"
   ]
  },
  {
   "cell_type": "code",
   "execution_count": 8,
   "metadata": {
    "id": "Zros0Jo9n55K"
   },
   "outputs": [],
   "source": [
    "p_min = 1"
   ]
  },
  {
   "cell_type": "code",
   "execution_count": 9,
   "metadata": {
    "colab": {
     "base_uri": "https://localhost:8080/"
    },
    "id": "6vz84-ehnFt9",
    "outputId": "db894bb0-3add-40b0-97a8-86a3b9d8f90d"
   },
   "outputs": [
    {
     "data": {
      "text/plain": [
       "array([ 2.5849625 ,  4.169925  ,  5.39231742,  6.4918531 ,  7.53915881,\n",
       "        8.56224242,  9.57364719, 10.57931594, 11.58214198, 12.58355293,\n",
       "       13.58425789, 14.58461024, 15.58478638, 16.58487444, 17.58491847,\n",
       "       18.58494049, 19.58495149, 20.584957  , 21.58495975, 22.58496112,\n",
       "       23.58496181, 24.58496216, 25.58496233, 26.58496241, 27.58496246,\n",
       "       28.58496248, 29.58496249, 30.5849625 , 31.5849625 , 32.5849625 ,\n",
       "       33.5849625 , 34.5849625 , 35.5849625 , 36.5849625 , 37.5849625 ,\n",
       "       38.5849625 , 39.5849625 , 40.5849625 , 41.5849625 , 42.5849625 ])"
      ]
     },
     "execution_count": 9,
     "metadata": {},
     "output_type": "execute_result"
    }
   ],
   "source": [
    "bilpq = np.log2((2**(n) - 1) + p_min * (3 * (2**n - 1) + 2*(2**(n) - 1)))\n",
    "bilpq"
   ]
  },
  {
   "cell_type": "markdown",
   "metadata": {
    "id": "6j0Th9NJp0ux"
   },
   "source": [
    "##CSG over graphs (by Voice et. al):  \n",
    "$$\\mathcal{O}\\left(n^2*\\binom{n^2}{n}\\right)$$"
   ]
  },
  {
   "cell_type": "code",
   "execution_count": 10,
   "metadata": {
    "colab": {
     "base_uri": "https://localhost:8080/"
    },
    "id": "LzTwhZuqdKmk",
    "outputId": "f867e29d-35ce-413b-91b4-8b0145937d09"
   },
   "outputs": [
    {
     "name": "stderr",
     "output_type": "stream",
     "text": [
      "C:\\Users\\anma10\\PycharmProjects\\DP-Q\\venv\\lib\\site-packages\\ipykernel_launcher.py:4: RuntimeWarning: overflow encountered in longlong_scalars\n",
      "  after removing the cwd from sys.path.\n",
      "C:\\Users\\anma10\\PycharmProjects\\DP-Q\\venv\\lib\\site-packages\\ipykernel_launcher.py:4: RuntimeWarning: invalid value encountered in log2\n",
      "  after removing the cwd from sys.path.\n"
     ]
    }
   ],
   "source": [
    "csg_over_graphs_voice = []\n",
    "for n_i in n:\n",
    "  try:\n",
    "    csg_over_graphs_voice.append(np.log2((n_i**2)*(ncr(n_i**2,n_i))))\n",
    "  except:\n",
    "    csg_over_graphs_voice.append(np.nan)\n",
    "    continue\n",
    "csg_over_graphs_voice = np.array(csg_over_graphs_voice)"
   ]
  },
  {
   "cell_type": "code",
   "execution_count": 11,
   "metadata": {
    "colab": {
     "base_uri": "https://localhost:8080/"
    },
    "id": "dl49uOExfRme",
    "outputId": "6771c6e7-27eb-4963-9afd-f2a1eb11b870"
   },
   "outputs": [
    {
     "data": {
      "text/plain": [
       "array([ 0.        ,  4.5849625 ,  9.56224242, 14.82972274, 20.34109528,\n",
       "       26.06333319, 31.97087445, 38.04341021, 44.26448872, 50.62055294,\n",
       "       57.10026068,         nan, 60.1486507 ,         nan,         nan,\n",
       "               nan,         nan,         nan,         nan,         nan,\n",
       "               nan,         nan,         nan,         nan,         nan,\n",
       "               nan,         nan,         nan,         nan,         nan,\n",
       "               nan,         nan,         nan,         nan,         nan,\n",
       "               nan,         nan,         nan,         nan,         nan])"
      ]
     },
     "execution_count": 11,
     "metadata": {},
     "output_type": "execute_result"
    }
   ],
   "source": [
    "csg_over_graphs_voice"
   ]
  },
  {
   "cell_type": "markdown",
   "metadata": {
    "id": "Vm5ibNmPrZGD"
   },
   "source": [
    "##CSG-Q: \n",
    "$$\\mathcal{O}(n^2)$$"
   ]
  },
  {
   "cell_type": "code",
   "execution_count": 12,
   "metadata": {
    "colab": {
     "base_uri": "https://localhost:8080/"
    },
    "id": "ZtPeZPPkoAzU",
    "outputId": "a3344245-912e-4037-cffe-5aa4bcfde37f"
   },
   "outputs": [
    {
     "data": {
      "text/plain": [
       "array([ 0.        ,  2.        ,  3.169925  ,  4.        ,  4.64385619,\n",
       "        5.169925  ,  5.61470984,  6.        ,  6.33985   ,  6.64385619,\n",
       "        6.91886324,  7.169925  ,  7.40087944,  7.61470984,  7.81378119,\n",
       "        8.        ,  8.17492568,  8.33985   ,  8.49585503,  8.64385619,\n",
       "        8.78463485,  8.91886324,  9.04712391,  9.169925  ,  9.28771238,\n",
       "        9.40087944,  9.509775  ,  9.61470984,  9.71596199,  9.81378119,\n",
       "        9.90839262, 10.        , 10.08878824, 10.17492568, 10.25856603,\n",
       "       10.33985   , 10.41890673, 10.49585503, 10.57080444, 10.64385619])"
      ]
     },
     "execution_count": 12,
     "metadata": {},
     "output_type": "execute_result"
    }
   ],
   "source": [
    "gcs_q = 2*np.log2(n)\n",
    "gcs_q"
   ]
  },
  {
   "cell_type": "markdown",
   "metadata": {
    "id": "1AtgpkUTqCmO"
   },
   "source": [
    "CSG-Q QA: we won't use this"
   ]
  },
  {
   "cell_type": "code",
   "execution_count": 13,
   "metadata": {
    "colab": {
     "base_uri": "https://localhost:8080/"
    },
    "id": "Mf2Zm8HCcBRJ",
    "outputId": "7c6f2b0e-bac6-4fc8-9257-a9b71e4fcbb6"
   },
   "outputs": [
    {
     "data": {
      "text/plain": [
       "array([ 1.44269504,  3.04027889,  4.08378361,  4.88539008,  5.54789228,\n",
       "        6.11882921,  6.62436722,  7.08055779,  7.49801012,  7.88413039,\n",
       "        8.24430976,  8.58260472,  8.90215066,  9.20542548,  9.49442446,\n",
       "        9.77078016, 10.03584688, 10.29076168, 10.5364894 , 10.77385646,\n",
       "       11.00357665, 11.22627118, 11.44248431, 11.65269591, 11.85733139,\n",
       "       12.05676988, 12.25135083, 12.44137951, 12.62713156, 12.80885677,\n",
       "       12.98678235, 13.16111557, 13.33204616, 13.49974822, 13.66438198,\n",
       "       13.82609525, 13.9850247 , 14.14129703, 14.29502986, 14.44633269])"
      ]
     },
     "execution_count": 13,
     "metadata": {},
     "output_type": "execute_result"
    }
   ],
   "source": [
    "gcs_q_qa = np.log2(n*np.exp(np.sqrt(n)))\n",
    "gcs_q_qa"
   ]
  },
  {
   "cell_type": "markdown",
   "metadata": {
    "id": "6Fa8SHVduHKW"
   },
   "source": [
    "##Plot the complexities"
   ]
  },
  {
   "cell_type": "code",
   "execution_count": 105,
   "metadata": {
    "colab": {
     "base_uri": "https://localhost:8080/",
     "height": 420
    },
    "id": "DfAfKtYbpElE",
    "outputId": "4ecd6ad3-a2e4-4aa0-a4f7-296a750aa786"
   },
   "outputs": [
    {
     "data": {
      "image/png": "[encoded data removed]",
      "text/plain": [
       "<Figure size 648x360 with 1 Axes>"
      ]
     },
     "metadata": {
      "needs_background": "light"
     },
     "output_type": "display_data"
    }
   ],
   "source": [
    "#plt.tight_layout()\n",
    "font=20\n",
    "\n",
    "l=2\n",
    "m=2\n",
    "\n",
    "plt.figure(figsize=(9,5))\n",
    "\n",
    "plt.plot(n, ip_cfss, label = 'CFSS', color='blue', linestyle = 'dashdot', linewidth=l, alpha=.6)#color='red', linestyle = 'None', marker = 'x')\n",
    "plt.scatter(n, gcs_q, label = 'GCS-Q',  color='seagreen',  marker='H', alpha=.6)#color='green', linestyle = 'None', marker = '*')\n",
    "plt.plot(n, boss_idp, label = 'BOSS', color='deepskyblue', linestyle = 'dashdot', linewidth=l, alpha=.6)# color='magenta', linestyle = 'None', marker = '+')\n",
    "plt.scatter(n, bilpq, label = 'BILP-Q', color='limegreen', marker='H', alpha=.6, s=30) # color='cyan', linestyle = 'dashdot', marker = 'None')\n",
    "plt.plot(n, clink, label = 'C-Link', color='royalblue', linestyle = 'dashdot', linewidth=l, alpha=.6)# color='brown', linestyle = 'dotted', marker = 'None')\n",
    "#plt.plot(n, gcs_q_qa, label = 'GCS-Q (QA)', color='red', linestyle = 'solid')\n",
    "#plt.plot(n, gcs_q, label = 'GCS-Q',  color='seagreen', linestyle = 'dotted', marker='H', linewidth=l, markeredgewidth=m, alpha=.6)#color='green', linestyle = 'None', marker = '*')\n",
    "\n",
    "\n",
    "plt.xlabel(r'No. of Agents $(n)$' ,fontdict={'fontsize':font}, labelpad=20)\n",
    "plt.ylabel(r'(log) Time Complexity', fontdict={'fontsize':font}, labelpad=20)\n",
    "plt.ylim(-5, 50)\n",
    "plt.grid(alpha=0.3)\n",
    "plt.ticklabel_format(style='sci', axis='y', scilimits=(0,0))\n",
    "\n",
    "\n",
    "plt.legend(fontsize=font, ncol =3)#, bbox_to_anchor=(1.01,.8))\n",
    "plt.xticks(np.arange(0, n_max, 5), fontsize=font)\n",
    "plt.yticks([0, 10, 20, 30, 40, 50, 60],fontsize =font)\n",
    "plt.tick_params(labelsize=font-2)\n",
    "plt.savefig('theoretical_complexities.png', bbox_inches='tight', dpi =300)\n",
    "plt.show()"
   ]
  },
  {
   "cell_type": "code",
   "execution_count": 13,
   "metadata": {
    "id": "OdOgamsMvNKP"
   },
   "outputs": [],
   "source": []
  }
 ],
 "metadata": {
  "colab": {
   "collapsed_sections": [],
   "provenance": []
  },
  "kernelspec": {
   "display_name": "Python 3 (ipykernel)",
   "language": "python",
   "name": "python3"
  },
  "language_info": {
   "codemirror_mode": {
    "name": "ipython",
    "version": 3
   },
   "file_extension": ".py",
   "mimetype": "text/x-python",
   "name": "python",
   "nbconvert_exporter": "python",
   "pygments_lexer": "ipython3",
   "version": "3.7.9"
  }
 },
 "nbformat": 4,
 "nbformat_minor": 1
}
