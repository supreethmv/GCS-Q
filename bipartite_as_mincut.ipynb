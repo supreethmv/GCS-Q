{
 "cells": [
  {
   "cell_type": "code",
   "execution_count": 1,
   "metadata": {
    "id": "xEzj8uvPd-Ro"
   },
   "outputs": [],
   "source": [
    "#!pip install qiskit-aqua\n",
    "#!pip install qiskit\n",
    "#!pip install qiskit_optimization"
   ]
  },
  {
   "cell_type": "code",
   "execution_count": 2,
   "metadata": {
    "id": "1OP1MVZOvjkj"
   },
   "outputs": [],
   "source": [
    "import numpy as np\n",
    "import pandas as pd\n",
    "import time\n",
    "import math\n",
    "import itertools\n",
    "\n",
    "import networkx as nx\n",
    "%matplotlib inline\n",
    "\n",
    "from qiskit import Aer\n",
    "from qiskit_optimization.applications import Maxcut\n",
    "from qiskit.algorithms import QAOA, NumPyMinimumEigensolver\n",
    "from qiskit.utils import algorithm_globals, QuantumInstance\n",
    "from qiskit_optimization.algorithms import MinimumEigenOptimizer"
   ]
  },
  {
   "cell_type": "code",
   "execution_count": 3,
   "metadata": {
    "id": "o7UxpYJ8wbHY"
   },
   "outputs": [],
   "source": [
    "from utils import *"
   ]
  },
  {
   "cell_type": "markdown",
   "metadata": {
    "id": "LTykNAYYllyk"
   },
   "source": [
    "### Brute force solution"
   ]
  },
  {
   "cell_type": "code",
   "execution_count": 4,
   "metadata": {
    "id": "oAIo2uT0lrIr"
   },
   "outputs": [],
   "source": [
    "def solve_brute_force(n_agents, induced_subgraph_game):\n",
    "  G=nx.Graph()\n",
    "  G.add_nodes_from(np.arange(0,n_agents,1))\n",
    "  elist = [tuple((int(x)-1 for x in key.split(',')))+tuple([induced_subgraph_game[key]*-1]) for key in induced_subgraph_game]\n",
    "  G.add_weighted_edges_from(elist)\n",
    "  w = [[G.get_edge_data(i,j,default = {'weight': 0})['weight']  for j in range(n_agents)] for i in range(n_agents)]\n",
    "\n",
    "  x = [int(t) for t in reversed(list(bin(0)[2:].zfill(n_agents)))]\n",
    "  cost = [[w[i][j]*x[i]*(1-x[j]) for j in range(n_agents)] for i in range(n_agents)]\n",
    "  best_cost_brute = sum([sum(i) for i in cost])\n",
    "  xbest_brute = x\n",
    "\n",
    "  for b in range(1, 2**(n_agents-1)):\n",
    "    x = [int(t) for t in reversed(list(bin(b)[2:].zfill(n_agents)))]\n",
    "    cost = [[w[i][j]*x[i]*(1-x[j]) for j in range(n_agents)] for i in range(n_agents)]\n",
    "    cost = sum([sum(i) for i in cost])\n",
    "    if cost > best_cost_brute:\n",
    "      best_cost_brute = cost\n",
    "      xbest_brute = x\n",
    "  return np.array(xbest_brute), -best_cost_brute"
   ]
  },
  {
   "cell_type": "markdown",
   "metadata": {
    "id": "5rS7X7CPmCRJ"
   },
   "source": [
    "### Qiskit exact solution using NumpyEigensolver (Cassical)"
   ]
  },
  {
   "cell_type": "code",
   "execution_count": 5,
   "metadata": {
    "id": "peLxbN46UR9w"
   },
   "outputs": [],
   "source": [
    "def solve_qiskit_classical_eigensolver(n_agents, induced_subgraph_game):\n",
    "  G=nx.Graph()\n",
    "  G.add_nodes_from(np.arange(0,n_agents,1))\n",
    "  elist = [tuple((int(x)-1 for x in key.split(',')))+tuple([induced_subgraph_game[key]*-1]) for key in induced_subgraph_game]\n",
    "  G.add_weighted_edges_from(elist)\n",
    "  w = [[G.get_edge_data(i,j,default = {'weight': 0})['weight']  for j in range(n_agents)] for i in range(n_agents)]\n",
    "  w = np.array([np.array(row) for row in w])\n",
    "  max_cut = Maxcut(w)\n",
    "  qp = max_cut.to_quadratic_program()\n",
    "  qubitOp, offset = qp.to_ising()\n",
    "  exact = MinimumEigenOptimizer(NumPyMinimumEigensolver())\n",
    "  result = exact.solve(qp)\n",
    "  return result.x, -result.fval"
   ]
  },
  {
   "cell_type": "markdown",
   "metadata": {
    "id": "o8IlBhJMYykc"
   },
   "source": [
    "### Qiskit heuristic solution using QAOA"
   ]
  },
  {
   "cell_type": "code",
   "execution_count": 6,
   "metadata": {
    "id": "BmzRoWWKKeHJ"
   },
   "outputs": [],
   "source": [
    "def solve_qiskit_QAOA(n_agents, induced_subgraph_game, reps = 1, simulator = \"aer_simulator_statevector\", shots=1000, seed_simulator=123, seed_transpiler=123):\n",
    "  backend=Aer.get_backend(simulator)\n",
    "  qins = QuantumInstance(backend=backend, shots=shots, seed_simulator=seed_simulator, seed_transpiler=seed_transpiler)\n",
    "  G=nx.Graph()\n",
    "  G.add_nodes_from(np.arange(0,n_agents,1))\n",
    "  elist = [tuple((int(x)-1 for x in key.split(',')))+tuple([induced_subgraph_game[key]*-1]) for key in induced_subgraph_game]\n",
    "  G.add_weighted_edges_from(elist)\n",
    "  w = [[G.get_edge_data(i,j,default = {'weight': 0})['weight']  for j in range(n_agents)] for i in range(n_agents)]\n",
    "  w = np.array([np.array(row) for row in w])\n",
    "  max_cut = Maxcut(w)\n",
    "  qp = max_cut.to_quadratic_program()\n",
    "  qubitOp, offset = qp.to_ising()\n",
    "  algorithm_globals.random_seed = seed\n",
    "  heuristic = MinimumEigenOptimizer(min_eigen_solver=QAOA(reps=reps, quantum_instance=qins))\n",
    "  result = heuristic.solve(qp)\n",
    "  return result.x, -result.fval"
   ]
  },
  {
   "cell_type": "markdown",
   "metadata": {
    "id": "oN9RxO4CtMSw"
   },
   "source": [
    "### DWave solution using QAOA"
   ]
  },
  {
   "cell_type": "code",
   "execution_count": 7,
   "metadata": {
    "id": "--DAuwpRtMSy"
   },
   "outputs": [],
   "source": [
    "def solve_dwave(n, induced_subgraph_game, save_log=False, name_folder='distribution', n_samples= 4000, n_run=5, seed=None):\n",
    "    \n",
    "    for run in np.arange(1,n_run+1):\n",
    "        print('.',end='')\n",
    "        linear, quadratic = get_linear_quadratic_coeffs(n, induced_subgraph_game)\n",
    "        sample = dwave_solver(linear, quadratic, offset = 0.0, runs=n_samples)\n",
    "\n",
    "        if save_log:\n",
    "            if seed is not None:\n",
    "                path = os.path.join('QA_results', str(seed), name_folder, str(n), 'run_'+str(run))\n",
    "            else:\n",
    "                path = os.path.join('QA_results', name_folder, str(n), 'run_'+str(run))\n",
    "            create_dir(path)\n",
    "\n",
    "            try:\n",
    "                sample.to_pandas_dataframe().to_csv(os.path.join(path, 'solutions.csv'))\n",
    "                save_json(os.path.join(path, 'log'), sample.info)\n",
    "            except:\n",
    "                print(\"\\n **** Warning: results for\",  name_folder, \"with\", n, \"agents not saved*** \\n\")\n",
    "\n",
    "\n",
    "        dwave_annealer_solution=[]\n",
    "        for key, value in sample.first[0].items():\n",
    "            dwave_annealer_solution.append(value)\n",
    "\n",
    "        dwave_annealer_solution = np.array(dwave_annealer_solution)\n",
    "        dwave_annealer_value = from_columns_to_string(sample.to_pandas_dataframe()).loc[0,'energy']\n",
    "\n",
    "        dwave_annealer_tte = sample.info['timing']['qpu_sampling_time']/10**6\n",
    "    \n",
    "    return dwave_annealer_solution, dwave_annealer_value, dwave_annealer_tte"
   ]
  },
  {
   "cell_type": "markdown",
   "metadata": {
    "id": "w55WLMDYZBAc"
   },
   "source": [
    "### Get Linear and Quadratic coefficients"
   ]
  },
  {
   "cell_type": "code",
   "execution_count": 8,
   "metadata": {
    "id": "mLzuCImoWcme"
   },
   "outputs": [],
   "source": [
    "def get_linear_quadratic_coeffs(n_agents, induced_subgraph_game):\n",
    "  G=nx.Graph()\n",
    "  G.add_nodes_from(np.arange(0,n_agents,1))\n",
    "  elist = [tuple((int(x)-1 for x in key.split(',')))+tuple([induced_subgraph_game[key]*-1]) for key in induced_subgraph_game]\n",
    "  G.add_weighted_edges_from(elist)\n",
    "  w = [[G.get_edge_data(i,j,default = {'weight': 0})['weight']  for j in range(n_agents)] for i in range(n_agents)]\n",
    "  w = np.array([np.array(row) for row in w])\n",
    "  max_cut = Maxcut(w)\n",
    "  qp = max_cut.to_quadratic_program()\n",
    "  linear = qp.objective.linear.coefficients.toarray(order=None, out=None)\n",
    "  quadratic = qp.objective.quadratic.coefficients.toarray(order=None, out=None)\n",
    "  linear = {'x_'+str(idx):-round(value,2) for idx,value in enumerate(linear[0])}\n",
    "  quadratic = {('x_'+str(iy),'x_'+str(ix)):-quadratic[iy, ix] for iy, ix in np.ndindex(quadratic.shape) if iy<ix}\n",
    "  return linear, quadratic"
   ]
  },
  {
   "cell_type": "markdown",
   "metadata": {
    "id": "WFutoWB4ZLo-"
   },
   "source": [
    "### Get QUBO matrix"
   ]
  },
  {
   "cell_type": "code",
   "execution_count": 9,
   "metadata": {
    "id": "_yfSvp14Wcj3"
   },
   "outputs": [],
   "source": [
    "def get_qubo_matrix(linear, quadratic):\n",
    "  Q = np.zeros([len(linear),len(linear)])\n",
    "  #diagonal elements\n",
    "  for key,value in linear.items():\n",
    "    Q[int(key.split('_')[1]),int(key.split('_')[1])] = value\n",
    "  #non diagonal elements\n",
    "  for key,value in quadratic.items():\n",
    "    Q[int(key[0].split('_')[1]),int(key[1].split('_')[1])] = value\n",
    "    Q[int(key[1].split('_')[1]),int(key[0].split('_')[1])] = value\n",
    "  return Q"
   ]
  },
  {
   "cell_type": "markdown",
   "metadata": {
    "id": "LqDeyTp1a4Rz"
   },
   "source": [
    "### Run experiments with different combinations of distributions and problem sizes\n",
    "\n",
    "For comparitive analysis of Brute force, Eigensolver and QAOA solutions"
   ]
  },
  {
   "cell_type": "code",
   "execution_count": 10,
   "metadata": {
    "id": "FTZBsgbamV4y"
   },
   "outputs": [],
   "source": [
    "import qiskit\n",
    "qiskit.utils.algorithm_globals.massive=True"
   ]
  },
  {
   "cell_type": "code",
   "execution_count": 11,
   "metadata": {},
   "outputs": [],
   "source": [
    "def normal(size=1, mu=0, sigma=5, low=-10, high=10):\n",
    "    values = np.random.normal(mu, sigma, size)\n",
    "    #values = np.interp(values, (values.min(), values.max()), (low, high))\n",
    "    return values\n",
    "\n",
    "def uniform(size=1, low=-5, high=5):\n",
    "    values = np.random.normal(low, high, size)\n",
    "    #values = np.interp(values, (values.min(), values.max()), (low, high))\n",
    "    return values\n",
    "\n",
    "def laplace(size=1, loc=0, scale=5, low=-10, high=10):\n",
    "    values = np.random.laplace(loc, scale, size)\n",
    "    #values = np.interp(values, (values.min(), values.max()), (low, high))\n",
    "    return values\n",
    "\n",
    "\n",
    "def generate_induced_subgraph_game(distribution, n_agents, **kwargs):\n",
    "    induced_subgraph_game = {}\n",
    "    keys = list(itertools.combinations(range(1,n_agents+1), 2))\n",
    "    totalinteractions = len(keys)\n",
    "    values = distribution(totalinteractions, **kwargs)\n",
    "    for i,key in enumerate(keys):\n",
    "        induced_subgraph_game[','.join(map(str,key))] = round(values[i],2)\n",
    "    return induced_subgraph_game"
   ]
  },
  {
   "cell_type": "code",
   "execution_count": null,
   "metadata": {
    "colab": {
     "base_uri": "https://localhost:8080/"
    },
    "id": "EzZIGLuboLYQ",
    "outputId": "5772a9a1-3efb-4214-ba9f-d168417e40f2"
   },
   "outputs": [
    {
     "name": "stdout",
     "output_type": "stream",
     "text": [
      "Executing normal distribution:\n",
      "n = 2 - Running Brute Force ( 00:00:00 ) - Running DWave Annealer..... ( 00:00:25 )\n",
      "n = 3 - Running Brute Force ( 00:00:00 ) - Running DWave Annealer..... ( 00:00:24 )\n",
      "n = 4 - Running Brute Force ( 00:00:00 ) - Running DWave Annealer..... ( 00:00:28 )\n",
      "n = 5 - Running Brute Force ( 00:00:00 ) - Running DWave Annealer...."
     ]
    }
   ],
   "source": [
    "table_contents = []\n",
    "\n",
    "distributions = [\n",
    "    normal,\n",
    "    #uniform,\n",
    "    #laplace\n",
    "]\n",
    "\n",
    "n_agents = np.arange(2,66).tolist()\n",
    "\n",
    "seed = 123\n",
    "QAOA_p_increment_flag = False           # If true, checks for runs QAOA for p>1 also\n",
    "\n",
    "report_filename = 'bipartite_report_' +  str(seed) + '.txt'\n",
    "\n",
    "for distribution in distributions:\n",
    "  print(f'Executing {distribution.__name__} distribution:',end='\\n')\n",
    "  for n in n_agents:\n",
    "    print(f'n = {n}',end='')\n",
    "    np.random.seed(seed=seed)\n",
    "    induced_subgraph_game = generate_induced_subgraph_game(distribution,n)\n",
    "    \n",
    "    start_time = time.time()\n",
    "    print(\" - Running Brute Force\", end=\"\")\n",
    "    bruteforce_solution, bruteforce_value = np.repeat(0,n), 0.0 #solve_brute_force(n, induced_subgraph_game)\n",
    "    bruteforce_tte = (time.time() - start_time)\n",
    "    print(' (', time.strftime('%H:%M:%S', time.gmtime(bruteforce_tte)), ')', end = \"\")\n",
    "    \n",
    "    start_time = time.time()\n",
    "    qiskit_eigensolver_solution, qiskit_eigensolver_value = np.repeat(0,n), 0.0 # solve_qiskit_classical_eigensolver(n, induced_subgraph_game)\n",
    "    qiskit_eigensolver_tte = (time.time() - start_time)\n",
    "    qiskit_eigensolver_correctness = ((bruteforce_solution==qiskit_eigensolver_solution).all() or (bruteforce_solution==(1-qiskit_eigensolver_solution)).all())\n",
    "\n",
    "    start_time = time.time()\n",
    "    print(\" - Running DWave Annealer\", end = \"\")\n",
    "    dwave_annealer_solution, dwave_annealer_value, dwave_annealer_tte_cloud = solve_dwave(n, induced_subgraph_game, save_log=True, \n",
    "                                                                                          name_folder=distribution.__name__, \n",
    "                                                                                          n_run=5, seed=seed)\n",
    "    dwave_annealer_correctness = None #((bruteforce_solution==dwave_annealer_solution).all() or (bruteforce_solution==(1-dwave_annealer_solution)).all())\n",
    "    dwave_annealer_tte = (time.time() - start_time)\n",
    "    print(' (', time.strftime('%H:%M:%S', time.gmtime(dwave_annealer_tte)), ')', end = \"\\n\")\n",
    "    \n",
    "    reps = 0\n",
    "    qiskit_qaoa_correctness = False\n",
    "    while(not qiskit_qaoa_correctness and (QAOA_p_increment_flag or not reps)):\n",
    "      reps = reps+1\n",
    "      start_time = time.time()\n",
    "      #print('\\n QAOA reps p =',reps)\n",
    "      qiskit_qaoa_solution, qiskit_qaoa_value = np.repeat(0,n), 0.0 #solve_qiskit_QAOA(n, induced_subgraph_game, reps, 'aer_simulator')\n",
    "      qiskit_qaoa_tte = (time.time() - start_time)\n",
    "      qiskit_qaoa_correctness = ((bruteforce_solution==qiskit_qaoa_solution).all() or (bruteforce_solution==(1-qiskit_qaoa_solution)).all())\n",
    "      row = []\n",
    "      row.append(distribution.__name__)\n",
    "      row.append(n)\n",
    "      row.append(''.join(map(str,map(int,bruteforce_solution))))\n",
    "      row.append(bruteforce_value)\n",
    "      row.append(bruteforce_tte)\n",
    "      row.append(''.join(map(str,map(int,qiskit_eigensolver_solution))))\n",
    "      row.append(qiskit_eigensolver_value)\n",
    "      row.append(qiskit_eigensolver_tte)\n",
    "      row.append(qiskit_eigensolver_correctness)\n",
    "      row.append(''.join(map(str,map(int,qiskit_qaoa_solution))))\n",
    "      row.append(qiskit_qaoa_value)\n",
    "      row.append(qiskit_qaoa_tte)\n",
    "      row.append(reps)\n",
    "      row.append(qiskit_qaoa_correctness)\n",
    "      row.append(''.join(map(str,map(int,dwave_annealer_solution))))\n",
    "      row.append(dwave_annealer_value)\n",
    "      row.append(dwave_annealer_tte)\n",
    "      row.append(dwave_annealer_correctness)\n",
    "      report_file_obj = open(report_filename,'a+')\n",
    "      report_file_obj.write('__'.join(map(str,row))+'\\n')\n",
    "      report_file_obj.close()\n",
    "      table_contents.append(row)\n",
    "  print('\\n')"
   ]
  },
  {
   "cell_type": "markdown",
   "metadata": {
    "id": "t4J_ckxhui9_"
   },
   "source": [
    "## Display results from generated report file"
   ]
  },
  {
   "cell_type": "code",
   "execution_count": null,
   "metadata": {
    "colab": {
     "base_uri": "https://localhost:8080/",
     "height": 35
    },
    "id": "7TYxpD5tux85",
    "outputId": "5e18fabc-71be-415c-839d-63c79c42eaa4"
   },
   "outputs": [],
   "source": [
    "report_filename = 'bipartite_report_' +  str(seed) + '.txt'\n",
    "report_filename"
   ]
  },
  {
   "cell_type": "code",
   "execution_count": null,
   "metadata": {
    "id": "JMGbo_d_u53J"
   },
   "outputs": [],
   "source": [
    "report_file_obj = open(report_filename,'r')\n",
    "table_contents = [line.split('__') for line in report_file_obj.readlines()]"
   ]
  },
  {
   "cell_type": "code",
   "execution_count": null,
   "metadata": {
    "colab": {
     "base_uri": "https://localhost:8080/",
     "height": 623
    },
    "id": "1J50K7-DCTlb",
    "outputId": "27961b89-b563-4f08-d3f8-0d864726e3ba"
   },
   "outputs": [],
   "source": [
    "#view output table\n",
    "def highlight_false(s, column):\n",
    "    is_false = pd.Series(data=False, index=s.index)\n",
    "    is_false[column] = s.loc[column] == False\n",
    "    return ['color: #A16060' if is_false.any() else '' for v in is_false]\n",
    "\n",
    "column_arrays = [['Distribution', 'No. of Agents', 'Brute Force Solution','Brute Force Solution','Brute Force Solution', \\\n",
    "                  'Qiskit Eigensolver','Qiskit Eigensolver','Qiskit Eigensolver','Qiskit Eigensolver', 'Qiskit QAOA','Qiskit QAOA',\\\n",
    "                  'Qiskit QAOA', 'Qiskit QAOA', 'Qiskit QAOA', 'Dwave Annealer', 'Dwave Annealer', 'Dwave Annealer', 'Dwave Annealer'], \n",
    "                 ['', '', 'Result', 'Value', 'TTE', 'Result', 'Value', 'TTE', 'Correctness', 'Result', 'Value', 'TTE', 'reps (p)', 'Correctness', 'Result', 'Value', 'TTE', 'Correctness']]\n",
    "\n",
    "#df = pd.DataFrame(table_contents, columns=table_headers)\n",
    "df = pd.DataFrame(table_contents, columns=pd.MultiIndex.from_arrays(column_arrays))\n",
    "\n",
    "\n",
    "s = df.style.apply(highlight_false, column=('Qiskit QAOA', 'Correctness'), axis=1)\n",
    "cell_hover = {  # for row hover use <tr> instead of <td>\n",
    "    'selector': 'td:hover',\n",
    "    'props': [('background-color', 'grey')]\n",
    "}\n",
    "index_names = {\n",
    "    'selector': '.index_name',\n",
    "    'props': 'font-style: italic; color: darkgrey; font-weight:normal;'\n",
    "}\n",
    "headers = {\n",
    "    'selector': 'th:not(.index_name)',\n",
    "    'props': 'background-color: #1D1D1D; color: white;'\n",
    "}\n",
    "s.set_table_styles([cell_hover, index_names, headers])\n",
    "\n",
    "tte_col_bgcolor = '154360'\n",
    "value_col_bgcolor = '784212'\n",
    "resullt_col_bgcolor = '186A3B'\n",
    "correctness_col_bgcolor = '693f3f'\n",
    "\n",
    "\n",
    "s.set_table_styles({\n",
    "    ('No. of Agents', ''): [{'selector': 'th', 'props': 'border-left: 1px solid white'},\n",
    "                               {'selector': 'td', 'props': 'border-left: 1px solid white'}],\n",
    "    ('Brute Force Solution', 'Result'): [{'selector': 'th', 'props': 'border-left: 1px solid white'},\n",
    "                               {'selector': 'td', 'props': 'border-left: 1px solid white; background-color: #'+resullt_col_bgcolor}],\n",
    "    ('Brute Force Solution', 'Value'): [{'selector': 'th', 'props': 'border-left: 1px solid black'},\n",
    "                               {'selector': 'td', 'props': 'border-left: 1px solid black; background-color:#'+value_col_bgcolor}],\n",
    "    ('Brute Force Solution', 'TTE'): [{'selector': 'th', 'props': 'border-left: 1px solid black'},\n",
    "                               {'selector': 'td', 'props': 'border-left: 1px solid black; background-color:#'+tte_col_bgcolor}],\n",
    "    ('Qiskit Eigensolver', 'Result'): [{'selector': 'th', 'props': 'border-left: 1px solid white'},\n",
    "                               {'selector': 'td', 'props': 'border-left: 1px solid white; background-color: #'+resullt_col_bgcolor}],\n",
    "    ('Qiskit Eigensolver', 'Value'): [{'selector': 'th', 'props': 'border-left: 1px solid black'},\n",
    "                               {'selector': 'td', 'props': 'border-left: 1px solid black; background-color:#'+value_col_bgcolor}],\n",
    "    ('Qiskit Eigensolver', 'TTE'): [{'selector': 'th', 'props': 'border-left: 1px solid black'},\n",
    "                               {'selector': 'td', 'props': 'border-left: 1px solid black; background-color:#'+tte_col_bgcolor}],\n",
    "    ('Qiskit Eigensolver', 'Correctness'): [{'selector': 'th', 'props': 'border-left: 1px solid black'},\n",
    "                               {'selector': 'td', 'props': 'border-left: 1px solid black; background-color:#'+correctness_col_bgcolor}],\n",
    "    ('Qiskit QAOA', 'Result'): [{'selector': 'th', 'props': 'border-left: 1px solid white'},\n",
    "                               {'selector': 'td', 'props': 'border-left: 1px solid white; background-color: #'+resullt_col_bgcolor}],\n",
    "    ('Qiskit QAOA', 'Value'): [{'selector': 'th', 'props': 'border-left: 1px solid black'},\n",
    "                               {'selector': 'td', 'props': 'border-left: 1px solid black; background-color:#'+value_col_bgcolor}],\n",
    "    ('Qiskit QAOA', 'TTE'): [{'selector': 'th', 'props': 'border-left: 1px solid black'},\n",
    "                               {'selector': 'td', 'props': 'border-left: 1px solid black; background-color:#'+tte_col_bgcolor}],\n",
    "    ('Qiskit QAOA', 'reps (p)'): [{'selector': 'th', 'props': 'border-left: 1px solid black'},\n",
    "                               {'selector': 'td', 'props': 'border-left: 1px solid black'}],\n",
    "    ('Qiskit QAOA', 'Correctness'): [{'selector': 'th', 'props': 'border-left: 1px solid black'},\n",
    "                               {'selector': 'td', 'props': 'border-left: 1px solid black; background-color:#'+correctness_col_bgcolor}],\n",
    "    ('Dwave Annealer', 'Result'): [{'selector': 'th', 'props': 'border-left: 1px solid white'},\n",
    "                               {'selector': 'td', 'props': 'border-left: 1px solid white; background-color: #'+resullt_col_bgcolor}],\n",
    "    ('Dwave Annealer', 'Value'): [{'selector': 'th', 'props': 'border-left: 1px solid black'},\n",
    "                               {'selector': 'td', 'props': 'border-left: 1px solid black; background-color:#'+value_col_bgcolor}],\n",
    "    ('Dwave Annealer', 'TTE'): [{'selector': 'th', 'props': 'border-left: 1px solid black'},\n",
    "                               {'selector': 'td', 'props': 'border-left: 1px solid black; background-color:#'+tte_col_bgcolor}],\n",
    "    ('Dwave Annealer', 'Correctness'): [{'selector': 'th', 'props': 'border-left: 1px solid black'},\n",
    "                               {'selector': 'td', 'props': 'border-left: 1px solid black; background-color:#'+correctness_col_bgcolor}]\n",
    "}, overwrite=False, axis=0)"
   ]
  },
  {
   "cell_type": "code",
   "execution_count": null,
   "metadata": {
    "id": "dwV40JbJtMS8",
    "outputId": "78084989-3894-43b8-fd63-d949a8d44887"
   },
   "outputs": [],
   "source": [
    "df = pd.concat([df['Distribution'], df['No. of Agents'], df['Brute Force Solution']['TTE'], df['Qiskit Eigensolver']['TTE'], df['Dwave Annealer']['TTE']], axis = 1)#,    'TTE']\n",
    "df.columns=['Distribution', 'No. of Agents', 'TTE(BF)', 'TTE(QUBO)', 'TTE(QA)']\n",
    "df.head()"
   ]
  },
  {
   "cell_type": "code",
   "execution_count": null,
   "metadata": {
    "id": "TtWxUlIJmV46"
   },
   "outputs": [],
   "source": [
    "# df = pd.concat([df['Distribution'], df['No. of Agents'], df['Brute Force Solution']['TTE'], df['Qiskit Eigensolver']['TTE'], df['Dwave Annealer']['TTE']], axis = 1)#,    'TTE']\n",
    "# df.columns=['Distribution', 'No. of Agents', 'TTE(BF)', 'TTE(QUBO)', 'TTE(QA)']\n",
    "# df.head()"
   ]
  },
  {
   "cell_type": "code",
   "execution_count": null,
   "metadata": {},
   "outputs": [],
   "source": [
    "# np.log2(data['TTE(QA)'].astype(float).to_numpy())"
   ]
  },
  {
   "cell_type": "code",
   "execution_count": null,
   "metadata": {
    "id": "RwCSjKNktMS_",
    "outputId": "682aa1df-addb-48ec-ba11-68f125d64d87"
   },
   "outputs": [],
   "source": [
    "import matplotlib.pyplot as plt\n",
    "\n",
    "\n",
    "folder = 'output-bipartite'\n",
    "create_dir(folder)\n",
    "for distr in df.Distribution.unique():\n",
    "    data = df.loc[df.Distribution == distr, ]\n",
    "    plt.figure(figsize=(14,4))\n",
    "\n",
    "    plt.plot(data['No. of Agents'], data['TTE(BF)'].astype(float).to_numpy())  \n",
    "    plt.scatter(data['No. of Agents'], data['TTE(BF)'].astype(float).to_numpy(), label='Brute Force')\n",
    "\n",
    "    plt.plot(data['No. of Agents'], data['TTE(QA)'].astype(float).to_numpy())\n",
    "    plt.scatter(data['No. of Agents'], data['TTE(QA)'].astype(float).to_numpy(), label='Quantum Annealing')\n",
    "\n",
    "    # plt.plot(data['No. of Agents'], np.log2(data['TTE(BF)'].astype(float).to_numpy()+10**(-5))  )\n",
    "    # plt.scatter(data['No. of Agents'], np.log2(data['TTE(BF)'].astype(float).to_numpy()+10**(-5)), label='Brute Force')\n",
    "    # # plt.plot(data['No. of Agents'], data['TTE(QUBO)'].astype(float))\n",
    "    # # plt.scatter(data['No. of Agents'], data['TTE(QUBO)'].astype(float), label='Classical QUBO')\n",
    "    # plt.plot(data['No. of Agents'], np.log10(data['TTE(QA)'].astype(float).to_numpy()))\n",
    "    # plt.scatter(data['No. of Agents'], np.log10(data['TTE(QA)'].astype(float).to_numpy()), label='Quantum Annealing')\n",
    "    \n",
    "    plt.title(distr)\n",
    "    plt.legend()\n",
    "    plt.autoscale(enable=True)\n",
    "    plt.grid()\n",
    "    plt.savefig(folder + '/' + distr +'.jpeg')\n",
    "    plt.show()"
   ]
  },
  {
   "cell_type": "code",
   "execution_count": null,
   "metadata": {
    "id": "Zt7KN0tMtMTA",
    "outputId": "78baae8f-87c1-428d-eb0a-d5bc93c34551"
   },
   "outputs": [],
   "source": [
    "import numpy as np\n",
    "from sklearn import linear_model\n",
    "import sklearn as skl\n",
    "from sklearn.feature_selection import chi2\n",
    "\n",
    "folder = 'output-CSG'\n",
    "create_dir(folder)\n",
    "\n",
    "\n",
    "for distr in df.Distribution.unique():\n",
    "\n",
    "    x = df.loc[df.Distribution == distr, 'No. of Agents'].astype(float).to_numpy()\n",
    "    y = df.loc[df.Distribution == distr, 'TTE(QA)'].astype(float).to_numpy()\n",
    "    length = len(x)\n",
    "    print(length)\n",
    "\n",
    "    x = x.reshape(length, 1)\n",
    "    y = y.reshape(length, 1)\n",
    "\n",
    "    regr = linear_model.LinearRegression()\n",
    "    model = regr.fit(x,y)\n",
    "    plt.scatter(x,y, color='orange')\n",
    "    plt.plot(x, regr.predict(x), color='blue')\n",
    "    \n",
    "    plt.savefig(folder + '/' + distr+'_lin_reg.jpeg')\n",
    "    plt.show()\n",
    "\n",
    "\n",
    "    from IPython.display import display, Math\n",
    "\n",
    "    b1 = regr.coef_[0][0]\n",
    "    b0 = regr.intercept_[0]\n",
    "\n",
    "    display(Math( r\"$\\beta_0 = {} \\\\ \\beta_1 = {}$\".format(np.round(b0, 3), np.round(b1, 3))))\n",
    "    display(Math( r\"$ Time = {} + {} n \\\\$\".format(np.round(b0, 3), np.round(b1, 3))))\n",
    "    display(Math( r\"$ R^2 = {}\\\\$\".format(np.round(skl.metrics.r2_score(y, regr.predict(x)), 3))))\n",
    "    display(Math( r\"$ MAE = {}\\\\$\".format(np.round(skl.metrics.mean_absolute_error(y, regr.predict(x)), 3))))"
   ]
  }
 ],
 "metadata": {
  "colab": {
   "collapsed_sections": [],
   "provenance": []
  },
  "kernelspec": {
   "display_name": "Python 3 (ipykernel)",
   "language": "python",
   "name": "python3"
  },
  "language_info": {
   "codemirror_mode": {
    "name": "ipython",
    "version": 3
   },
   "file_extension": ".py",
   "mimetype": "text/x-python",
   "name": "python",
   "nbconvert_exporter": "python",
   "pygments_lexer": "ipython3",
   "version": "3.7.9"
  },
  "vscode": {
   "interpreter": {
    "hash": "7ce49c866c40cd7c4a959fdc20683d836558adca314277a10aabfe9ea199a547"
   }
  }
 },
 "nbformat": 4,
 "nbformat_minor": 4
}
